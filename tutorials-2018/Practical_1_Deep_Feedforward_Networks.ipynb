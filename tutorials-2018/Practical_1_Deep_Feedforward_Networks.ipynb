{
  "nbformat": 4,
  "nbformat_minor": 0,
  "metadata": {
    "colab": {
      "name": "Practical 1: Deep Feedforward Networks",
      "version": "0.3.2",
      "provenance": [],
      "collapsed_sections": [
        "tHy4bjbTVCzV",
        "SIUsSjNwVk_n",
        "ot-FjimzV6op"
      ]
    },
    "kernelspec": {
      "name": "python2",
      "display_name": "Python 2"
    }
  },
  "cells": [
    {
      "metadata": {
        "id": "dYUH0qf8Dqkm",
        "colab_type": "text"
      },
      "cell_type": "markdown",
      "source": [
        "# Practical 1: Deep Feed-forward Networks"
      ]
    },
    {
      "metadata": {
        "id": "6hH4wd81A_P8",
        "colab_type": "text"
      },
      "cell_type": "markdown",
      "source": [
        "## Introduction\n",
        "In this practical, we implement and train a feed-forward neural network (also known as an \"MLP\" for \"multi-layer perceptron\") on a dataset called \"Fashion MNIST\", consisting of small greyscale images of items of fashion. We consider the practical issues around generalisation to out-of-sample data and introduce some important techniques for addressing this. \n",
        "\n",
        "## Learning Objectives \n",
        "* Understand how to use **Tensorflow Eager** and **Keras Layers** to build a neural network architecture\n",
        "* Understand how a model is trained and evaluated\n",
        "* Be able to explain why there is a difference between **in-sample** and **out-of-sample** model performance\n",
        "* Understand the concept of **train/validation/test split** and why it's useful\n",
        "* Research at least 1 technique that can be used to improve model **generalisation**"
      ]
    },
    {
      "metadata": {
        "id": "NxSD3yPDfEIj",
        "colab_type": "code",
        "colab": {
          "base_uri": "https://localhost:8080/",
          "height": 34
        },
        "outputId": "6c6beb36-83c9-4658-c4d0-08dbdbbc6a0f"
      },
      "cell_type": "code",
      "source": [
        "#@title Imports (RUN ME!) { display-mode: \"form\" }\n",
        "from __future__ import absolute_import, division, print_function\n",
        "\n",
        "import tensorflow as tf\n",
        "import tensorflow.contrib.eager as tfe\n",
        "import numpy as np\n",
        "import matplotlib.pyplot as plt\n",
        "%matplotlib inline\n",
        "\n",
        "try:\n",
        "  tf.enable_eager_execution()\n",
        "  print('Running in Eager mode.')\n",
        "except ValueError:\n",
        "  print('Already running Eagerly')"
      ],
      "execution_count": 1,
      "outputs": [
        {
          "output_type": "stream",
          "text": [
            "Running in Eager mode.\n"
          ],
          "name": "stdout"
        }
      ]
    },
    {
      "metadata": {
        "id": "sU33KeDUDomX",
        "colab_type": "text"
      },
      "cell_type": "markdown",
      "source": [
        "## The Data"
      ]
    },
    {
      "metadata": {
        "id": "nL0dFs-DD6sM",
        "colab_type": "text"
      },
      "cell_type": "markdown",
      "source": [
        "In this practical, we use the Fashion MNIST dataset consisting of 70,000 greyscale images and their labels. The dataset is divided\n",
        " into 60,000 training images and 10,000 test images. The idea is to train a **classifier** to identify the class value (what type of fashion item it is) given the image. We train and *tune* a model on the 60,000 training images and then evaluate how well it classifies the 10,000 test images that the model did not see during training. This task is an example of a **supervised learning** problem, where we are given both input and labels (targets) to learn from. This is in contrast to **unsupervised learning** where we only have inputs from which to learn patterns or **reinforcement learning** where an agent learns how to maximise a reward signal through interaction with its environment. "
      ]
    },
    {
      "metadata": {
        "id": "3lEM3aBa2N63",
        "colab_type": "text"
      },
      "cell_type": "markdown",
      "source": [
        "###Aside: Train/Validation/Test Split\n",
        "\n",
        "When we build machine learning models, the goal is to build a model that will perform well on *future* data that we have not seen yet. We say that we want our models to be able to **generalise** well from whatever training data we can collect and do have available, to whatever data we will be applying them to in future. To do this, we split whatever data we have available into a **training set, a validation set and a test set**. The idea is that we train our model and use the performance on the validation set to make any adjustments to the model and its hyperparameters, but then we report the final accuracy on the test set. The test set (which we never train on), therefore acts as a proxy for our future data."
      ]
    },
    {
      "metadata": {
        "id": "9VRxcYWHfZJ5",
        "colab_type": "code",
        "colab": {}
      },
      "cell_type": "code",
      "source": [
        "# Tensorflow has convenient modules for loading a number of standard datasets\n",
        "fashion_mnist = tf.keras.datasets.fashion_mnist\n",
        "(train_and_validation_images, train_and_validation_labels), (test_images, test_labels) = fashion_mnist.load_data()\n",
        "\n",
        "text_labels = ['T-shirt/top', 'Trouser', 'Pullover', 'Dress', 'Coat', 'Sandal', 'Shirt', 'Sneaker', 'Bag', 'Ankle boot']"
      ],
      "execution_count": 0,
      "outputs": []
    },
    {
      "metadata": {
        "id": "1Z_Ks31qEfUM",
        "colab_type": "text"
      },
      "cell_type": "markdown",
      "source": [
        "### Construct a validation set\n",
        "Next, we remove 10,000 images and labels from the training set to use as a validation set. We will come back to the validation set later! "
      ]
    },
    {
      "metadata": {
        "id": "dZKEjjGM8I4t",
        "colab_type": "code",
        "colab": {}
      },
      "cell_type": "code",
      "source": [
        "# Construct a validation set from the last 10000 images and labels from \n",
        "# train_and_validation_images and train_and_validation_labels\n",
        "validation_images = train_and_validation_images[-10000:, :, :]\n",
        "validation_labels = train_and_validation_labels[-10000:]\n",
        "\n",
        "# Construct a training set from the first 50000 images and labels.\n",
        "train_images = train_and_validation_images[:50000, :, :]\n",
        "train_labels = train_and_validation_labels[:50000]"
      ],
      "execution_count": 0,
      "outputs": []
    },
    {
      "metadata": {
        "id": "fbWk7qJOEkl6",
        "colab_type": "text"
      },
      "cell_type": "markdown",
      "source": [
        "### What does the data look like?\n",
        "Each image in the dataset consists of a 28 x 28 matrix of greyscale pixels. The values are between 0 and 255 where 0 represents black, 255 represents white and there are many shades of grey in-between. Each image is assigned a corresponding numerical label, so the image in ```train_images[i]``` has its corresponding label stored in ```train_labels[i]```. We also have a lookup array called ```text_labels``` to associate a text description with each of the numerical labels. For example, the label 1 is associated with the text description \"Trouser\".\n",
        "\n",
        "The 2 cells below demonstrate how to visualise the input data. Make sure you understand what's happening, particularly how the indices correspond to individual items in the dataset. "
      ]
    },
    {
      "metadata": {
        "id": "PgfvNeX2gcAL",
        "colab_type": "code",
        "colab": {
          "base_uri": "https://localhost:8080/",
          "height": 280
        },
        "outputId": "4b853a99-0389-4dc8-d163-0714ad00507b"
      },
      "cell_type": "code",
      "source": [
        "# We use the Matplotlib plotting library to visualise an image selected at random from the training set \n",
        "plt.figure()\n",
        "random_index = np.random.randint(0, len(train_images))\n",
        "plt.imshow(train_images[random_index], cmap='gray')\n",
        "plt.colorbar()\n",
        "numerical_label = train_labels[random_index]\n",
        "text_description = text_labels[numerical_label]\n",
        "plt.title('True Class: {} (\"{}\")'.format(numerical_label, text_description))\n",
        "\n",
        "plt.gca().grid(False)"
      ],
      "execution_count": 4,
      "outputs": [
        {
          "output_type": "display_data",
          "data": {
            "image/png": "[encoded data removed]",
            "text/plain": [
              "<matplotlib.figure.Figure at 0x7f67cfc18790>"
            ]
          },
          "metadata": {
            "tags": []
          }
        }
      ]
    },
    {
      "metadata": {
        "id": "-utfMlxhhL3b",
        "colab_type": "code",
        "colab": {
          "base_uri": "https://localhost:8080/",
          "height": 589
        },
        "outputId": "18781e96-bf98-4a18-8e3e-3149fac0df80"
      },
      "cell_type": "code",
      "source": [
        "# Another view, showing 25 randomly selected images at a time\n",
        "plt.figure(figsize=(10,10))\n",
        "for i in range(25):\n",
        "    plt.subplot(5,5,i+1)\n",
        "    plt.xticks([])\n",
        "    plt.yticks([])\n",
        "    plt.grid('off')\n",
        "    \n",
        "    img_index = np.random.randint(0, 50000)\n",
        "    plt.imshow(train_images[img_index], cmap=plt.cm.gray)\n",
        "    plt.xlabel(text_labels[train_labels[img_index]])"
      ],
      "execution_count": 5,
      "outputs": [
        {
          "output_type": "display_data",
          "data": {
            "image/png": "[encoded data removed]",
            "text/plain": [
              "<matplotlib.figure.Figure at 0x7f67cef7f090>"
            ]
          },
          "metadata": {
            "tags": []
          }
        }
      ]
    },
    {
      "metadata": {
        "id": "qMwKN4DHcqXV",
        "colab_type": "text"
      },
      "cell_type": "markdown",
      "source": [
        "### Exploratory Task\n",
        "Run the above cells multiple times to get a good sense of the dataset. Look at the general structure of the images and their corresponding labels. Can you spot some classes that might be difficult for a classifier to distinguish? If so, why do you think they would be difficult to distinguish? Chat to your neighbour about this. \n"
      ]
    },
    {
      "metadata": {
        "id": "S6U63sTpGYvg",
        "colab_type": "text"
      },
      "cell_type": "markdown",
      "source": [
        "### Preparing the data with TensorFlow\n",
        "At the moment, our training data consists of two large tensors. The images are stored in a tensor of shape $[50000, 28, 28]$, consisting of all the $28 \\times 28$ images matrices stacked together. The labels are stored in a 1D vector of shape $[50000]$. We wish to train a model using **mini-batch stochastic gradient descent**. In order to do so, we need to shuffle the data and split it into smaller (mini-)batches. We also convert the data from numpy arrays to TensorFlow Tensors.\n",
        "\n",
        "#### Questions\n",
        "* Can you explain what the difference is between normal stochastic gradient descent and \"batched\" stochastic gradient descent? What is the purpose of chunking data into batches during training? Are there any trade-offs? What are they? **HINT**: Speak to your neighbours and tutors about this. You can also read [this blog post](https://machinelearningmastery.com/gentle-introduction-mini-batch-gradient-descent-configure-batch-size/) for more details.\n",
        "* Why is it important to randomise the data before chunking it into batches? \n",
        "\n",
        "In order to do this batching (and shuffling) we will use the Tensorflow [Dataset API](https://www.tensorflow.org/api_docs/python/tf/data/Dataset), which is a set of simple reusable components that allow you to build efficient data pipelines. Data is said to \"stream\" through the pipeline, meaning that when something at the output of the pipeline wants data, the pipeline will provide that data as soon as it has enough, rather than waiting to process all the data. This allows you to easily build pipelines that work on large datasets without having to load it all into memory in one go!\n",
        "\n",
        "We build this pipeline step-by-step:"
      ]
    },
    {
      "metadata": {
        "id": "HO8Z6SImg_7W",
        "colab_type": "text"
      },
      "cell_type": "markdown",
      "source": [
        "We being by defining the ```batch_size``` hyperparameter of our model. This hyperparameter controls the sizes of the mini-batches (chunks) of data that we use to train the model. The value you use will affect the memory usage, speed of convergence and potentially also the performance of the model. It also interacts with the *learning rate* used in gradient descent. "
      ]
    },
    {
      "metadata": {
        "id": "x7VwqreOhbfv",
        "colab_type": "code",
        "colab": {}
      },
      "cell_type": "code",
      "source": [
        "batch_size = 128"
      ],
      "execution_count": 0,
      "outputs": []
    },
    {
      "metadata": {
        "id": "3CaT9bWFheRw",
        "colab_type": "text"
      },
      "cell_type": "markdown",
      "source": [
        "The first component we add will group the image and label tensors together into a tuple and then split them into individual entries - ie. 50000 tuples containing a (28, 28) dimensional image and 1D label associated with that image. The following line adds this splitting component to the pipeline."
      ]
    },
    {
      "metadata": {
        "id": "7wITDBK8h5Z6",
        "colab_type": "code",
        "colab": {}
      },
      "cell_type": "code",
      "source": [
        "train_ds = tf.data.Dataset.from_tensor_slices((train_images, train_labels))"
      ],
      "execution_count": 0,
      "outputs": []
    },
    {
      "metadata": {
        "id": "VNVG8Kb3h_CW",
        "colab_type": "text"
      },
      "cell_type": "markdown",
      "source": [
        "The next thing we do is apply a map operation. This lets us run an arbitrary function on each element. The function we provide returns the image values divided by 255 and converted ('cast') to a float and the label converted to a 32-bit integer.\n",
        "\n",
        "**NOTE**: \"Lambda\" functions are just one-line, anonymous functions. In this case, it defines a function that takes arguments x and y (before the colon), and outputs their manipulated values (after the colon)."
      ]
    },
    {
      "metadata": {
        "id": "4fcE7eTviBOi",
        "colab_type": "code",
        "colab": {}
      },
      "cell_type": "code",
      "source": [
        "# Divide image values and cast to float so that they end up as a floating point number between 0 and 1\n",
        "train_ds = train_ds.map(lambda x, y: (tf.cast(x, tf.float32) / 255.0, tf.cast(y, tf.int32)))  "
      ],
      "execution_count": 0,
      "outputs": []
    },
    {
      "metadata": {
        "id": "gm5iOdU0iD_0",
        "colab_type": "text"
      },
      "cell_type": "markdown",
      "source": [
        "Then we add a **shuffle** component. This returns a random element from the pipeline. Can you spot a potential problem here? \n",
        "\n",
        "**QUESTION**:  What might happen if the shuffle component didn't have a *buffer*?  **HINT**: Refer back to the discussion about the data pipeline and \"data streaming through it\" above."
      ]
    },
    {
      "metadata": {
        "id": "bvr5r8k6iJGI",
        "colab_type": "code",
        "colab": {}
      },
      "cell_type": "code",
      "source": [
        "# Shuffle the examples.\n",
        "train_ds = train_ds.shuffle(buffer_size=batch_size * 10) "
      ],
      "execution_count": 0,
      "outputs": []
    },
    {
      "metadata": {
        "id": "OlGI65QIjOgp",
        "colab_type": "text"
      },
      "cell_type": "markdown",
      "source": [
        "The final component in our pipeline is the batch component. This just requests `batch_size` elements from the previous pipeline component, groups them together into a single tensor and returns that."
      ]
    },
    {
      "metadata": {
        "id": "PB8CZrsmjR7Z",
        "colab_type": "code",
        "colab": {}
      },
      "cell_type": "code",
      "source": [
        "# Now \"chunk\" the examples into batches\n",
        "train_ds = train_ds.batch(batch_size)  \n",
        "\n",
        "# The output of this pipeline will be tuples of tensors containing images and labels. \n",
        "# The images will be of shape (batch_size, 28, 28) and the labels of shape (batch_size, )"
      ],
      "execution_count": 0,
      "outputs": []
    },
    {
      "metadata": {
        "id": "D6Y4EvFijYRR",
        "colab_type": "text"
      },
      "cell_type": "markdown",
      "source": [
        "Finally, we apply the same pre-processing (converting to Tensors and normalising the values to lie between 0 and 1) to the validation set. Here we don't need to use the Dataset API (but could if we wanted to!) because we don't need batching or shuffling. "
      ]
    },
    {
      "metadata": {
        "id": "EHxnBJjRB_Rl",
        "colab_type": "code",
        "colab": {}
      },
      "cell_type": "code",
      "source": [
        "# Apply the same preprocessing to the validation set\n",
        "# Ignore this for now - it will be used later! \n",
        "validation_images = tf.convert_to_tensor(validation_images, dtype=tf.float32) / 255.0\n",
        "validation_labels = tf.convert_to_tensor(validation_labels, dtype=tf.int32)"
      ],
      "execution_count": 0,
      "outputs": []
    },
    {
      "metadata": {
        "id": "v04ibRFSALQu",
        "colab_type": "text"
      },
      "cell_type": "markdown",
      "source": [
        "## Define the model"
      ]
    },
    {
      "metadata": {
        "id": "KItI--nMHFRQ",
        "colab_type": "text"
      },
      "cell_type": "markdown",
      "source": [
        "In this section we'll build a classifier. A **classifier** is a function that takes an object's characteristics (or \"features\") as inputs and outputs a prediction of the class (or group) that the object belongs to. It may make a single prediction for each input or it may output some score (for example a probability) for each of the possible classes. Specifically, we will build a classifier that takes in (a batch of) 28 x 28 Fashion MNIST images as we've seen above, and outputs predictions about which class the image belongs to. \n",
        "\n",
        "For each (batch of) input images, we will use a **feed-forward neural network** to compute un-normalised scores (also known as **logits**) for each of the 10 possible classes that the image could belong to. We can then **classify** the image as belonging to the class which receives the highest score, or we can quantify the model's \"confidence\" about the classifications by converting the scores into a probability distribution. \n",
        "\n",
        "A feed-forward neural network consisting of $N$ layers, applied to an input vector $\\mathbf{x}$ can be defined as:\n",
        "\n",
        "\\begin{equation}\n",
        "\\mathbf{f_0} = \\mathbf{x} \\\\\n",
        "\\mathbf{f_i} = \\sigma_i(\\mathbf{W_if_{i-1}} + \\mathbf{b_i}) \\ \\ \\ i \\in [1, N]\n",
        "\\end{equation}\n",
        "\n",
        "Each layer has a particular number, $m_i$, of neurons. The parameters of a layer consist of a matrix $\\mathbf{W_i} \\in \\mathbb{R}^{m_i \\times m_{i-1}}$ and bias vector $\\mathbf{b_i} \\in \\mathbb{R}^{m_i}$. Each layer also has a non-linear activation function $\\sigma_i$. \n",
        "\n",
        "**QUESTION**: Why do you think the activation functions need to be *non-linear*? What would happen if they were *linear*? **HINT**: If you're stuck, consider the very simplest case of an identity activation (which essentially does nothing) and ignore the biases. \n"
      ]
    },
    {
      "metadata": {
        "id": "tHy4bjbTVCzV",
        "colab_type": "text"
      },
      "cell_type": "markdown",
      "source": [
        "### Aside: Activation functions"
      ]
    },
    {
      "metadata": {
        "id": "Ox7VKs3BVCFV",
        "colab_type": "text"
      },
      "cell_type": "markdown",
      "source": [
        "\n",
        "\n",
        "Activation functions are a core ingredient in deep neural networks. In fact they are what allows us to make use of multiple layers in a neural network. There are a number of different activation functions, each of which are more or less useful under different circumstances. The four activation functions that you are most likely to encounter are, arguably, [ReLU](https://www.tensorflow.org/api_docs/python/tf/keras/layers/ReLU), [Tanh](https://www.tensorflow.org/api_docs/python/tf/keras/activations/tanh), [Sigmoid](https://www.tensorflow.org/api_docs/python/tf/keras/activations/sigmoid), and [Softmax](https://www.tensorflow.org/api_docs/python/tf/keras/layers/Softmax). \n",
        "\n",
        "ReLU, has in recent years, become the default choice for use in MLPs and Convolutional Neural Networks (CNNs). ReLU has two advantages over Tanh and Sigmoid: it is computationally much more efficient, and, it allows us to use deeper networks because it does not suffer from [vanishing gradients](https://en.wikipedia.org/wiki/Vanishing_gradient_problem). As a result of their success, a number of ReLU variants, such as [LeakyRelu](https://www.tensorflow.org/api_docs/python/tf/keras/layers/LeakyReLU) and [PReLU](https://www.tensorflow.org/api_docs/python/tf/keras/layers/PReLU), have been developed.\n",
        "\n",
        "Sigmoid and Softmax activations are often found after the last layer in binary and multi-class classification networks, respectively, as they transform the outputs of the network in such a way that we can interpret them as class probabilities.\n",
        "\n",
        "Both Tanh and Sigmoid are found in LSTM and GRU recurrent neural networks, which we will find out more about in the coming days. They are also useful in MLPs and CNNs where we want the output to be bounded between -1 and 1 (Tanh) or 0 and 1 (Sigmoid).\n",
        "\n",
        "Read more about activation functions [here](https://towardsdatascience.com/activation-functions-neural-networks-1cbd9f8d91d6). "
      ]
    },
    {
      "metadata": {
        "id": "bDRoliDeAShd",
        "colab_type": "text"
      },
      "cell_type": "markdown",
      "source": [
        "### Configure the feed-forward neural network\n",
        "We configure the feed-forward neural network part of our classifier using the [Keras Layers API](https://www.tensorflow.org/api_docs/python/tf/keras/layers). This API consists of various reusable building-blocks that allow us to define many different neural network architectures (similar to how we defined a data pipeline earlier!). \n",
        "\n",
        "Here we use the [Sequential](https://www.tensorflow.org/api_docs/python/tf/keras/Sequential) component which allows us to wrap together a sequence of layers. An important point to note here is that we are **configuring** our neural network architecture as a pipeline. We can think of the resulting ```model`` variable as a *function* that takes a batch of images as inputs and outputs a batch of logits. "
      ]
    },
    {
      "metadata": {
        "id": "cDPrTMSahRBu",
        "colab_type": "code",
        "colab": {}
      },
      "cell_type": "code",
      "source": [
        "model = tf.keras.Sequential([\n",
        "    # Convert the 28x28 image into a flat vector of 28x28 = 784 values\n",
        "    tf.keras.layers.Flatten(input_shape=(28, 28), name='flatten_input'),  \n",
        "    # Create a \"hidden\" layer with 256 neurons and apply the ReLU non-linearity\n",
        "    tf.keras.layers.Dense(256, activation=tf.nn.relu, name='input_to_hidden1'),  \n",
        "    # Create another hidden layer with 128 neurons\n",
        "    tf.keras.layers.Dense(128, activation=tf.nn.relu, name='hidden1_to_hidden2'),\n",
        "    # Create an \"output layer\" with 10 neurons\n",
        "    tf.keras.layers.Dense(10, name='hidden_to_logits'),  \n",
        "])"
      ],
      "execution_count": 0,
      "outputs": []
    },
    {
      "metadata": {
        "id": "W3AU_94YP1st",
        "colab_type": "text"
      },
      "cell_type": "markdown",
      "source": [
        "The following summary shows how many parameters each layer is made up of (the number of entries in the weight matrics and bias vectors). Note that a value of ```None``` in a particular dimension of a shape means that the shape will dynamically adapt based on the shape of the inputs. In particular, the output shape of the ```flatten_input``` layer will be $[N, 784]$ when the batch of inputs passed to the model has shape $[N, 28, 28]$"
      ]
    },
    {
      "metadata": {
        "id": "fSW4V3HuQd1-",
        "colab_type": "code",
        "colab": {
          "base_uri": "https://localhost:8080/",
          "height": 272
        },
        "outputId": "f605f661-f91e-4ee5-ee7f-1df1d691038b"
      },
      "cell_type": "code",
      "source": [
        "model.summary() "
      ],
      "execution_count": 14,
      "outputs": [
        {
          "output_type": "stream",
          "text": [
            "_________________________________________________________________\n",
            "Layer (type)                 Output Shape              Param #   \n",
            "=================================================================\n",
            "flatten_input (Flatten)      (None, 784)               0         \n",
            "_________________________________________________________________\n",
            "input_to_hidden1 (Dense)     (None, 256)               200960    \n",
            "_________________________________________________________________\n",
            "hidden1_to_hidden2 (Dense)   (None, 128)               32896     \n",
            "_________________________________________________________________\n",
            "hidden_to_logits (Dense)     (None, 10)                1290      \n",
            "=================================================================\n",
            "Total params: 235,146\n",
            "Trainable params: 235,146\n",
            "Non-trainable params: 0\n",
            "_________________________________________________________________\n"
          ],
          "name": "stdout"
        }
      ]
    },
    {
      "metadata": {
        "id": "PwI8FcreWsC_",
        "colab_type": "text"
      },
      "cell_type": "markdown",
      "source": [
        "**QUESTION**: Note that the flattening operation has no parameters. However, the Dense (fully-connected) layer mapping from the 784-D output of the flatten operation to the 256-D hidden layer has 200,960 parameters! Can you explain why the dense layer has 200,960 parameters? **HINT**: Refer back to the equations of a feed-forward network."
      ]
    },
    {
      "metadata": {
        "id": "VwWoSlpDMzNZ",
        "colab_type": "text"
      },
      "cell_type": "markdown",
      "source": [
        "### Define the loss\n",
        "As we did in the previous practical, we need to specify a loss function for our classifier. This tells us how good our model's predictions are compared to the actual labels (the targets), with a lower loss meaning better predictions. The standard loss function to use with a **multi-class classifier** is the **cross-entropy loss** also known as the \"negative log likelihood\". Suppose we have a classification problem with $C$ classes. A classifier is trained to predict a probability distribution $p(y | X_i)$ for each input $X_i$ from a batch of $N$ examples. The vector $p(y|X_i)$ is $C$ dimensional, sums to one, and we use $p(y|X_i)_c$ to denote the $c$th component of  $p(y|X_i)$. The true class for example $i$ in the batch is $y_i$ and we define the indicator function $\\mathbb{1}[y_i=c]$ to be 1 whenever $y_i = c$ and $0$ otherwise. This classifier has a cross-entropy loss of\n",
        "\n",
        "$- \\frac{1}{N}\\sum_{i=1}^N \\sum_{c=1}^C log( p(y|X_i)_c) \\mathbb{1}[y_i=c]$\n",
        "\n",
        "**NOTE**: The indicator is one for the true class label, and zero everywhere else. So in that sum, the indicator just \"lifts out\" the $log(p(y|X_i))$ values for all true classes. So the above expression is minimised (note the negative at the front) when the model places all its probability mass on the true labels for all the examples. Remember that  log(1)=0 , thus the closer all probabilities of $y_i = c$ are to one, the lower the loss will be and the better the model will be performing.\n",
        "\n",
        "**QUESTION**: \n",
        "* Why do you think this is a *good* loss function?\n",
        "* Can you think of any potential issues with this loss function?\n",
        "\n",
        "Fortunately we don't need to write this function ourselves as Tensorflow provides a version called \n",
        "\n",
        "```tf.nn.sparse_softmax_cross_entropy_with_logits```. \n",
        "\n",
        "**NOTE**: This function actually computes the cross entropy loss directly from the un-normalised logits, rather than from the probability distribution for numerical stability.\n",
        "\n",
        "By the way, for training data in which the labels are themselves distributions rather than exact values, this definition of cross-entropy still works, where the indicator function is replaced with the corresponding probability of each class for that example. This might be important when we are not sure whether the training data has been labelled correctly, or when the data was labelled by a human who gave their answer along with a degree of confidence that the answer was correct"
      ]
    },
    {
      "metadata": {
        "id": "7OHi-HftJy9_",
        "colab_type": "text"
      },
      "cell_type": "markdown",
      "source": [
        "## Train the model\n",
        "Now that we have our data, data processing pipeline, our neural network architecture and the corresponding loss that we want to minimise, we need to **train** the model using batched stochastic gradient descent. We do this in multiple **epochs**, which is a single iteration through the entire training dataset. Briefly, in each epoch we loop over all the batches of images and labels, and for each batch we perform the following steps:\n",
        "* Get the **predictions** of the model on the current batch of images\n",
        "* Compute the **average loss** values across the batch, telling us how good these predictions are / how close they are to the true targets.\n",
        "* Compute the **gradient of the average loss** (or the average gradient of the losses in the batch) with respect to each of the model's parameters: This tells us the direction to move in \"parameter space\" to decrease the loss value\n",
        "* **Adjust the parameters** by taking a small step in the direction of each component of the gradient (where the learning rate controls the size of the step)\n",
        "\n",
        "During training we also track some metrics, such as the loss and accuracy to see how well the classifier is doing. Note that the cell below may take a few minutes to run! \n",
        "\n",
        "###ASIDE: Computing gradients in Eager mode\n",
        "\n",
        "In graph mode, TensorFlow builds up a \"computation graph\" which captures all operations of the model and their dependencies. For training, the gradient can then be computed by traversing backwards from every node through its dependents and applying the \"chain rule\" of differentiation. \n",
        "\n",
        "However, in Eager mode, we don't have the concept of the computation graph anymore. Operations are performed imperatively (in the order in which they were executed). TensorFlow therefore uses a mechanism called the \"GradientTape\" for computing gradients in Eager mode. Basically, the gradient tape records the order of all operations as they are executed, and can then be \"run backwards\" (traversed from last to first operation) for computing the gradients."
      ]
    },
    {
      "metadata": {
        "id": "5hpiGc40hYkK",
        "colab_type": "code",
        "colab": {}
      },
      "cell_type": "code",
      "source": [
        "# Create an optimizer\n",
        "# The optimizer is responsible for controlling the learning rate\n",
        "optimizer = tf.train.AdamOptimizer()\n",
        "\n",
        "step_counter = tf.train.get_or_create_global_step()  # Just a variable that keeps track of how many training steps we've run\n",
        "num_epochs = 50  # The number of epochs to run\n",
        "\n",
        "# Lists to store the loss and accuracy of every epoch\n",
        "epoch_losses = []\n",
        "epoch_accuracies = []\n",
        "\n",
        "for epoch in range(num_epochs):\n",
        "  # Tensorflow provides a convenient API for tracking a number of metrics during training/evaluation\n",
        "  loss_avg = tfe.metrics.Mean()\n",
        "  accuracy = tfe.metrics.Accuracy()\n",
        "\n",
        "  # Loop over our data pipeline\n",
        "  for step, (image_batch, label_batch) in enumerate(train_ds):\n",
        "    \n",
        "    # Initialise a GradientTape to track the operations\n",
        "    with tf.GradientTape() as tape:\n",
        "      # Compute the logits (un-normalised scores) of the current batch of examples \n",
        "      # using the neural network architecture we defined earlier\n",
        "      logits = model(image_batch, training=True)\n",
        "      # Compute the cross-entropy loss of the classification outputs on this batch\n",
        "      loss_value = tf.nn.sparse_softmax_cross_entropy_with_logits(\n",
        "          logits=logits, labels=label_batch)  \n",
        "      # Compute the average loss over the batch\n",
        "      loss_value = tf.reduce_mean(loss_value)  \n",
        "      \n",
        "      # Add current batch loss to our loss metric tracker - note the function call semantics\n",
        "      loss_avg(loss_value)  \n",
        "      # Compare most likely predicted label to actual label\n",
        "      accuracy(tf.argmax(logits, axis=1, output_type=tf.int32), label_batch)\n",
        "\n",
        "    # Play the tape backwards and get the gradient of the loss of the current batch\n",
        "    # Note we're now outside the scope of the with-block above\n",
        "    grads = tape.gradient(loss_value, model.variables)\n",
        "    # Use the optimizer to apply the gradients to the model parameters along with\n",
        "    # its internal learning rate\n",
        "    optimizer.apply_gradients(\n",
        "        zip(grads, model.variables), global_step=step_counter)\n",
        "  \n",
        "  # Get the average loss and accuracy for the epoch\n",
        "  epoch_loss = loss_avg.result()\n",
        "  epoch_losses.append(epoch_loss)\n",
        "  epoch_accuracy = accuracy.result()\n",
        "  epoch_accuracies.append(epoch_accuracy)\n",
        "  print(\"Epoch {:03d}: Loss: {:.3f}, Accuracy: {:.3%}\".format(epoch, epoch_loss, epoch_accuracy))\n",
        "  \n",
        "# Plot the loss for all epochs using Matplotlib\n",
        "plt.figure()\n",
        "plt.plot(range(num_epochs), epoch_losses)\n",
        "plt.title('Loss vs epochs')\n",
        "\n",
        "# Plot the accuracy for all epochs using Matplotlib\n",
        "plt.figure()\n",
        "plt.plot(range(num_epochs), epoch_accuracies)\n",
        "plt.title('Accuracy vs epochs')"
      ],
      "execution_count": 0,
      "outputs": []
    },
    {
      "metadata": {
        "id": "i-oib_tntPIY",
        "colab_type": "text"
      },
      "cell_type": "markdown",
      "source": [
        "The above code block shows a typical training loop. There's actually an easier way to do this using Tenosrflow and Keras, which we'll see in the next prac, but for now we expand it so you can see what's going on.\n",
        "\n",
        "Lets visualise some of the model's prediction on the training set"
      ]
    },
    {
      "metadata": {
        "id": "rotl5kAX7SrW",
        "colab_type": "code",
        "colab": {}
      },
      "cell_type": "code",
      "source": [
        "images, labels = next(train_ds.make_one_shot_iterator())  # Get a batch of images and labels\n",
        "\n",
        "_logits = model(images, training=False)  # Pass the images to the model function and get its output logits\n",
        "predicted_labels = tf.argmax(_logits, axis=1, output_type=tf.int32)\n",
        "\n",
        "img_indexs = np.arange(images.numpy().shape[0])\n",
        "np.random.shuffle(img_indexs)\n",
        "\n",
        "plt.figure(figsize=(10,10))\n",
        "for i in range(25):\n",
        "    plt.subplot(5,5,i+1)\n",
        "    plt.xticks([])\n",
        "    plt.yticks([])\n",
        "    plt.grid('off')\n",
        "    \n",
        "    img_index = img_indexs[i]\n",
        "    predicted_label = int(predicted_labels[img_index])\n",
        "    \n",
        "    plt.imshow(images[img_index], cmap=plt.cm.gray)\n",
        "    \n",
        "    actual_label = int(labels[img_index].numpy())\n",
        "    plt.xlabel(\"Actual: {} ({})\\n Predicted: {} ({})\".format(\n",
        "        actual_label, text_labels[actual_label], predicted_label, text_labels[predicted_label]\n",
        "    ))\n",
        "    \n",
        "plt.tight_layout()\n",
        "plt.show()"
      ],
      "execution_count": 0,
      "outputs": []
    },
    {
      "metadata": {
        "id": "SIUsSjNwVk_n",
        "colab_type": "text"
      },
      "cell_type": "markdown",
      "source": [
        " ### Aside: Optimisation schemes"
      ]
    },
    {
      "metadata": {
        "id": "ExBhca58VpPH",
        "colab_type": "text"
      },
      "cell_type": "markdown",
      "source": [
        "You might have noticed that we are using the Adam optimizer to train our neural networks. Adam is a variant of stochastic gradient descent which often performs well in practice. In fact, there is a whole range of variations on stochastic gradient descent that are often used. Here is an illustration showing how a few of these methods perform on a toy problem: \n",
        "\n",
        "![optimization methods](http://ruder.io/content/images/2016/09/saddle_point_evaluation_optimizers.gif)\n",
        "\n",
        "For a detailed description of various optimization methods read [this](http://ruder.io/optimizing-gradient-descent/) article. For a great visual discussion on how these methods work see [this](https://distill.pub/2017/momentum/) article."
      ]
    },
    {
      "metadata": {
        "id": "zMwZVX1T3zWP",
        "colab_type": "text"
      },
      "cell_type": "markdown",
      "source": [
        "## Testing\n",
        "\n",
        "After 50 epochs of training on our training set, we obtain a loss of around 0.061 and accuracy of 97.7%. That's pretty good, right? \n",
        "\n",
        "It is important to distinguish between data that is **in-sample** and **out-of-sample**. Our training data is all in-sample and we would expect any resonably powerful model (like an MLP) to be very accurate and have a low loss on this (in fact, with a sufficiently large MLP and enough training epochs, we can get the loss arbitrarily close to zero!). This is not a good thing though, because pushing the loss close to zero may mean that the model has fit the **noise** in the training data rather than the true signal. If this is the case, it will not perform well on out-of-sample data that it has not seen before (which is what we really care about!). To assess this, we evaluate our trained model on the held-out test set (but we don't update the parameters of the model when testing it, that would be cheating!)"
      ]
    },
    {
      "metadata": {
        "id": "SmBt_X4B4g3-",
        "colab_type": "code",
        "colab": {}
      },
      "cell_type": "code",
      "source": [
        "# We need to apply the same pre-processing to the test set as we did to the training set\n",
        "# Since we don't need batching or shuffling, we can do this directly instead of \n",
        "# building a tf.Dataset pipeline\n",
        "\n",
        "tf_test_images = tf.convert_to_tensor(test_images, dtype=tf.float32) / 255.0\n",
        "tf_test_labels = tf.convert_to_tensor(test_labels, dtype=tf.int32)"
      ],
      "execution_count": 0,
      "outputs": []
    },
    {
      "metadata": {
        "id": "j0BaJidP46Bm",
        "colab_type": "code",
        "colab": {
          "base_uri": "https://localhost:8080/",
          "height": 51
        },
        "outputId": "a2cb8a2e-7dd7-4eee-8f7a-9838cecd414a"
      },
      "cell_type": "code",
      "source": [
        "test_accuracy = tfe.metrics.Accuracy()\n",
        "\n",
        "test_logits = model(tf_test_images, training=False)\n",
        "\n",
        "# Compute the average cross-entropy loss of the classification over the entire test set\n",
        "test_loss = tf.nn.sparse_softmax_cross_entropy_with_logits(\n",
        "    logits=test_logits, labels=tf_test_labels)  \n",
        "test_loss = tf.reduce_mean(test_loss)\n",
        "\n",
        "# Compare predicted labels to actual labels\n",
        "test_accuracy(tf.argmax(test_logits, axis=1, output_type=tf.int32), tf_test_labels)\n",
        "\n",
        "print('Completed testing on', tf_test_images.shape[0], 'examples...')\n",
        "print('Loss: {:.3f}, Accuracy: {:.3%}'.format(test_loss, test_accuracy.result()))"
      ],
      "execution_count": 17,
      "outputs": [
        {
          "output_type": "stream",
          "text": [
            "Completed testing on 10000 examples...\n",
            "Loss: 0.607, Accuracy: 88.920%\n"
          ],
          "name": "stdout"
        }
      ]
    },
    {
      "metadata": {
        "id": "Qn4ptik28aHF",
        "colab_type": "text"
      },
      "cell_type": "markdown",
      "source": [
        "And again we visualise some of the model's predictions:"
      ]
    },
    {
      "metadata": {
        "id": "JHVSTjZU8ehm",
        "colab_type": "code",
        "colab": {}
      },
      "cell_type": "code",
      "source": [
        "test_predictions = tf.argmax(test_logits, axis=1, output_type=tf.int32)\n",
        "\n",
        "plt.figure(figsize=(10,10))\n",
        "for i in range(25):\n",
        "    plt.subplot(5,5,i+1)\n",
        "    plt.xticks([])\n",
        "    plt.yticks([])\n",
        "    plt.grid('off')\n",
        "    \n",
        "    img_index = np.random.randint(0, 10000)\n",
        "    plt.imshow(test_images[img_index], cmap=plt.cm.gray)\n",
        "    \n",
        "    actual_label = int(test_labels[img_index])\n",
        "    predicted_label = int(test_predictions[img_index])\n",
        "    \n",
        "    plt.xlabel(\"Actual: {} ({})\\n Predicted: {} ({})\".format(\n",
        "        actual_label, text_labels[actual_label], predicted_label, text_labels[predicted_label]\n",
        "    ))\n",
        "    \n",
        "plt.tight_layout()\n",
        "plt.show()"
      ],
      "execution_count": 0,
      "outputs": []
    },
    {
      "metadata": {
        "id": "yo6bEKs17a_d",
        "colab_type": "text"
      },
      "cell_type": "markdown",
      "source": [
        "What happened? We got 97.7% accuracy on the training set, but only 88.9% on the test set. This is an example of how a model's in-sample performance differs from its out-of-sample performance. It may even be considered **overfitting** (where the model failing to generalise its in-sample performance to unseen out-of-sample data). There are a number of ways we can address this, but first, it's important to realise that we should try and keep the number of evaluations on the test set to a minimum. \n",
        "\n",
        "**QUESTION**: Can you think of WHY we should limit the number of evaluations on the test set? This is an important point, so spend a few minutes thinking about it, discuss it with your neighbour and ask the tutors if you get stuck! \n",
        "\n",
        "The first important method is called **validation**. Using validation, we reserve a portion of our training dataset and call it the validation set. After each epoch of training (or every K epochs where K can be a fraction), we evaluate our model on this validation set (without updating the model parameters). This gives us a good sense of how well we expect our model to do on out-of-sample data. In this way, the validation set acts as a surrogate for the test set which we can safely use during model development and training. We can also use this validation set to tune our model by selecting hyperparameters such as the batch size, sizes of layers or the network architecture. \n"
      ]
    },
    {
      "metadata": {
        "id": "ot-FjimzV6op",
        "colab_type": "text"
      },
      "cell_type": "markdown",
      "source": [
        "### Aside: Underfitting"
      ]
    },
    {
      "metadata": {
        "id": "iQMKAkkFV7bf",
        "colab_type": "text"
      },
      "cell_type": "markdown",
      "source": [
        "In addition to the problem of _overfitting_ (in which the model is too complex and as a result is able to memorize the training data rather than learning a general pattern) there is the problem of _underfitting_ which is the opposite. Underfitting occurs when the model does not have enough complexity (also known as capacity) to learn a general pattern. While overfitting is characterised by diverging test/validation and training scores, underfitting is characterised by test/validation and training scores that very slowly continue to improve. \n",
        "\n",
        "\n",
        "Unlike overfitting which has a number of solutions, such as collecting more data, data augmentation, dropout, and L1/L2 regularization, underfitting has one simple solution: just make your model incrementally more complex until it no longer underfits.\n",
        "\n",
        "![underandoverfitting](https://i.imgur.com/m2bSP1S.png)"
      ]
    },
    {
      "metadata": {
        "id": "E8KSIHzkWC1N",
        "colab_type": "text"
      },
      "cell_type": "markdown",
      "source": [
        "##TASKS:\n",
        "\n",
        "1. [**ALL**] Implement **Validation** by adding some code to the loop in the \"Train the model\" section (**TIP**: The code for evaluating on the validation set will be very similar to evaluating on the test set!): \n",
        " * Evaluate your model on the validation set at the end of each training epoch and print the loss and accuracy on the validation set. We have already defined a validation set and done the necessary preprocessing for you.\n",
        "  * Evaluate how closely the loss and accuracy on the validation set matches the eventual performance on the test set. \n",
        "\n",
        "2. [**ALL**] Implement DROPOUT (see [Tensorflow documentation](https://www.tensorflow.org/api_docs/python/tf/keras/layers/Dropout) and [research paper](https://www.cs.toronto.edu/~hinton/absps/JMLRdropout.pdf) ) to improve the model's generalisation.\n",
        "\n",
        "3. [**ADVANCED**] Implement BATCH NORMALISATION ([Tensorflow documentation](https://www.tensorflow.org/api_docs/python/tf/keras/layers/BatchNormalization) and [research paper](http://proceedings.mlr.press/v37/ioffe15.pdf))to improve the model's generalisation.\n",
        "\n",
        "4. [**OPTIONAL**] Remove the shuffling from the dataset pipeline and compare the generalisation performance of the model with and without shuffling. \n",
        "\n",
        "5. [**OPTIONAL**] Adjust the model architecture by adding layers and modifying other parameters to improve the performance on your **validation** set. Once you've settled on an architecture and hyperparameters, evaluate your model on the **test** set. See the Tensorflow documentation for examples of parameters you can change in the model.\n",
        "\n",
        "\n",
        "## Important Tip\n",
        "If you want to re-train your model, you need to rerun all the code in the \"Define the model\" section first. This is to ensure that the Tensorflow variables containing the model parameters get reset. If you don't do this, you're effectively running more epochs on an already-trained model."
      ]
    }
  ]
}